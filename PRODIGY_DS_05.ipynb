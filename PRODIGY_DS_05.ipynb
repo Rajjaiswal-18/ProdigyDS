{
  "nbformat": 4,
  "nbformat_minor": 0,
  "metadata": {
    "colab": {
      "provenance": [],
      "authorship_tag": "ABX9TyN9eAGBXTTjcyMeWgnICOYt",
      "include_colab_link": true
    },
    "kernelspec": {
      "name": "python3",
      "display_name": "Python 3"
    },
    "language_info": {
      "name": "python"
    }
  },
  "cells": [
    {
      "cell_type": "markdown",
      "metadata": {
        "id": "view-in-github",
        "colab_type": "text"
      },
      "source": [
        "<a href=\"https://colab.research.google.com/github/Rajjaiswal-18/ProdigyDS/blob/main/PRODIGY_DS_05.ipynb\" target=\"_parent\"><img src=\"https://colab.research.google.com/assets/colab-badge.svg\" alt=\"Open In Colab\"/></a>"
      ]
    },
    {
      "cell_type": "code",
      "execution_count": null,
      "metadata": {
        "id": "4KqD_4QAKV2L"
      },
      "outputs": [],
      "source": [
        "import pandas as pd\n",
        "\n",
        "# Load the dataset\n",
        "df = pd.read_csv('/content/RTA Dataset.csv')\n"
      ]
    },
    {
      "cell_type": "code",
      "source": [
        "# Display the first few rows and basic info\n",
        "df.head()"
      ],
      "metadata": {
        "id": "xyfwR-dzKozL"
      },
      "execution_count": null,
      "outputs": []
    },
    {
      "cell_type": "code",
      "source": [
        "print(df.info())"
      ],
      "metadata": {
        "id": "-cDbMQv7Ko1K"
      },
      "execution_count": null,
      "outputs": []
    },
    {
      "cell_type": "code",
      "source": [
        "# Drop irrelevant columns and handle missing values\n",
        "# Drop irrelevant columns and handle missing values\n",
        "relevant_columns = ['Day_of_week', 'Time', 'Road_surface_conditions', 'Weather_conditions', 'Accident_severity']\n",
        "df = df[relevant_columns].dropna()"
      ],
      "metadata": {
        "id": "Gh2z21vbKo3f"
      },
      "execution_count": null,
      "outputs": []
    },
    {
      "cell_type": "code",
      "source": [
        "print(df.info())"
      ],
      "metadata": {
        "id": "G72g9u8YKo6W"
      },
      "execution_count": null,
      "outputs": []
    },
    {
      "cell_type": "code",
      "source": [
        "# Summary statistics and insights\n",
        "print(df.describe())"
      ],
      "metadata": {
        "id": "AkvXd1zEKo8P"
      },
      "execution_count": null,
      "outputs": []
    },
    {
      "cell_type": "code",
      "source": [
        "# Count occurrences of road conditions and weather conditions\n",
        "road_condition_counts = df['Road_surface_conditions'].value_counts()\n",
        "weather_counts = df['Weather_conditions'].value_counts()\n",
        "\n",
        "print(\"\\nRoad Condition Counts:\")\n",
        "print(road_condition_counts)\n",
        "print(\"\\nWeather Condition Counts:\")\n",
        "print(weather_counts)"
      ],
      "metadata": {
        "id": "2MzYtElxKpCf"
      },
      "execution_count": null,
      "outputs": []
    },
    {
      "cell_type": "code",
      "source": [
        "import matplotlib.pyplot as plt\n",
        "import seaborn as sns"
      ],
      "metadata": {
        "id": "hGef6emHKpFZ"
      },
      "execution_count": null,
      "outputs": []
    },
    {
      "cell_type": "code",
      "source": [
        "# Plot accident hotspots by road conditions\n",
        "plt.figure(figsize=(8, 6))\n",
        "road_condition_counts.plot(kind='bar', color='skyblue')\n",
        "plt.xlabel('Road Conditions')\n",
        "plt.ylabel('Number of Accidents')\n",
        "plt.title('Accident Hotspots by Road Conditions')\n",
        "plt.show()"
      ],
      "metadata": {
        "id": "SHS6zl45KpHl"
      },
      "execution_count": null,
      "outputs": []
    },
    {
      "cell_type": "code",
      "source": [
        "# Plot accident hotspots by weather conditions\n",
        "plt.figure(figsize=(8, 6))\n",
        "weather_counts.plot(kind='bar', color='lightgreen')\n",
        "plt.xlabel('Weather Conditions')\n",
        "plt.ylabel('Number of Accidents')\n",
        "plt.title('Accident Hotspots by Weather Conditions')\n",
        "plt.show()"
      ],
      "metadata": {
        "id": "2Zn-ZT_MKpJd"
      },
      "execution_count": null,
      "outputs": []
    },
    {
      "cell_type": "code",
      "source": [
        "# Count occurrences of accident severity\n",
        "severity_counts = df['Accident_severity'].value_counts()"
      ],
      "metadata": {
        "id": "rk9h6UHuKpL_"
      },
      "execution_count": null,
      "outputs": []
    },
    {
      "cell_type": "code",
      "source": [
        "severity_counts"
      ],
      "metadata": {
        "id": "t00C_4chKpOb"
      },
      "execution_count": null,
      "outputs": []
    },
    {
      "cell_type": "code",
      "source": [
        "# Plot pie chart for accident severity distribution\n",
        "plt.figure(figsize=(8, 6))\n",
        "plt.pie(severity_counts, labels=severity_counts.index, autopct='%1.1f%%', startangle=140)\n",
        "plt.title('Accident Severity Distribution')\n",
        "plt.show()"
      ],
      "metadata": {
        "id": "C78qvST1KpQ2"
      },
      "execution_count": null,
      "outputs": []
    },
    {
      "cell_type": "code",
      "source": [],
      "metadata": {
        "id": "82y-qYecKpUB"
      },
      "execution_count": null,
      "outputs": []
    },
    {
      "cell_type": "code",
      "source": [],
      "metadata": {
        "id": "fkk2jzthKpWK"
      },
      "execution_count": null,
      "outputs": []
    },
    {
      "cell_type": "code",
      "source": [],
      "metadata": {
        "id": "x6y72ertKpYh"
      },
      "execution_count": null,
      "outputs": []
    },
    {
      "cell_type": "code",
      "source": [],
      "metadata": {
        "id": "Hzfwpw_0Kpbo"
      },
      "execution_count": null,
      "outputs": []
    }
  ]
}